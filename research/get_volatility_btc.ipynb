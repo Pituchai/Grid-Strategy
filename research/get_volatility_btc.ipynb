{
 "cells": [
  {
   "cell_type": "markdown",
   "id": "681bbf7d",
   "metadata": {},
   "source": [
    "### Find the volity of grid to set grid layer "
   ]
  },
  {
   "cell_type": "markdown",
   "id": "3edb1e97",
   "metadata": {},
   "source": []
  }
 ],
 "metadata": {
  "language_info": {
   "name": "python"
  }
 },
 "nbformat": 4,
 "nbformat_minor": 5
}
