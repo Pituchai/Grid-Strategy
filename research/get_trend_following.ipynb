{
 "cells": [
  {
   "cell_type": "markdown",
   "id": "b2569f87",
   "metadata": {},
   "source": [
    "# "
   ]
  }
 ],
 "metadata": {
  "language_info": {
   "name": "python"
  }
 },
 "nbformat": 4,
 "nbformat_minor": 5
}
